{
 "cells": [
  {
   "cell_type": "code",
   "execution_count": 1,
   "id": "9e9932f8",
   "metadata": {},
   "outputs": [],
   "source": [
    "#import required libraries.\n",
    "import tensorflow as tf\n",
    "import pandas as pd\n",
    "import matplotlib.pyplot as plt"
   ]
  },
  {
   "cell_type": "code",
   "execution_count": 2,
   "id": "796f9bd2",
   "metadata": {},
   "outputs": [
    {
     "data": {
      "text/html": [
       "<div>\n",
       "<style scoped>\n",
       "    .dataframe tbody tr th:only-of-type {\n",
       "        vertical-align: middle;\n",
       "    }\n",
       "\n",
       "    .dataframe tbody tr th {\n",
       "        vertical-align: top;\n",
       "    }\n",
       "\n",
       "    .dataframe thead th {\n",
       "        text-align: right;\n",
       "    }\n",
       "</style>\n",
       "<table border=\"1\" class=\"dataframe\">\n",
       "  <thead>\n",
       "    <tr style=\"text-align: right;\">\n",
       "      <th></th>\n",
       "      <th>age</th>\n",
       "      <th>sex</th>\n",
       "      <th>bmi</th>\n",
       "      <th>children</th>\n",
       "      <th>smoker</th>\n",
       "      <th>region</th>\n",
       "      <th>charges</th>\n",
       "    </tr>\n",
       "  </thead>\n",
       "  <tbody>\n",
       "    <tr>\n",
       "      <th>0</th>\n",
       "      <td>19</td>\n",
       "      <td>female</td>\n",
       "      <td>27.900</td>\n",
       "      <td>0</td>\n",
       "      <td>yes</td>\n",
       "      <td>southwest</td>\n",
       "      <td>16884.92400</td>\n",
       "    </tr>\n",
       "    <tr>\n",
       "      <th>1</th>\n",
       "      <td>18</td>\n",
       "      <td>male</td>\n",
       "      <td>33.770</td>\n",
       "      <td>1</td>\n",
       "      <td>no</td>\n",
       "      <td>southeast</td>\n",
       "      <td>1725.55230</td>\n",
       "    </tr>\n",
       "    <tr>\n",
       "      <th>2</th>\n",
       "      <td>28</td>\n",
       "      <td>male</td>\n",
       "      <td>33.000</td>\n",
       "      <td>3</td>\n",
       "      <td>no</td>\n",
       "      <td>southeast</td>\n",
       "      <td>4449.46200</td>\n",
       "    </tr>\n",
       "    <tr>\n",
       "      <th>3</th>\n",
       "      <td>33</td>\n",
       "      <td>male</td>\n",
       "      <td>22.705</td>\n",
       "      <td>0</td>\n",
       "      <td>no</td>\n",
       "      <td>northwest</td>\n",
       "      <td>21984.47061</td>\n",
       "    </tr>\n",
       "    <tr>\n",
       "      <th>4</th>\n",
       "      <td>32</td>\n",
       "      <td>male</td>\n",
       "      <td>28.880</td>\n",
       "      <td>0</td>\n",
       "      <td>no</td>\n",
       "      <td>northwest</td>\n",
       "      <td>3866.85520</td>\n",
       "    </tr>\n",
       "  </tbody>\n",
       "</table>\n",
       "</div>"
      ],
      "text/plain": [
       "   age     sex     bmi  children smoker     region      charges\n",
       "0   19  female  27.900         0    yes  southwest  16884.92400\n",
       "1   18    male  33.770         1     no  southeast   1725.55230\n",
       "2   28    male  33.000         3     no  southeast   4449.46200\n",
       "3   33    male  22.705         0     no  northwest  21984.47061\n",
       "4   32    male  28.880         0     no  northwest   3866.85520"
      ]
     },
     "execution_count": 2,
     "metadata": {},
     "output_type": "execute_result"
    }
   ],
   "source": [
    "#import insurance dataset\n",
    "insurance = pd.read_csv('https://raw.githubusercontent.com/stedy/Machine-Learning-with-R-datasets/master/insurance.csv')\n",
    "insurance.head()"
   ]
  },
  {
   "cell_type": "code",
   "execution_count": 3,
   "id": "a2a60390",
   "metadata": {},
   "outputs": [
    {
     "data": {
      "text/html": [
       "<div>\n",
       "<style scoped>\n",
       "    .dataframe tbody tr th:only-of-type {\n",
       "        vertical-align: middle;\n",
       "    }\n",
       "\n",
       "    .dataframe tbody tr th {\n",
       "        vertical-align: top;\n",
       "    }\n",
       "\n",
       "    .dataframe thead th {\n",
       "        text-align: right;\n",
       "    }\n",
       "</style>\n",
       "<table border=\"1\" class=\"dataframe\">\n",
       "  <thead>\n",
       "    <tr style=\"text-align: right;\">\n",
       "      <th></th>\n",
       "      <th>age</th>\n",
       "      <th>bmi</th>\n",
       "      <th>children</th>\n",
       "      <th>charges</th>\n",
       "      <th>sex_female</th>\n",
       "      <th>sex_male</th>\n",
       "      <th>smoker_no</th>\n",
       "      <th>smoker_yes</th>\n",
       "      <th>region_northeast</th>\n",
       "      <th>region_northwest</th>\n",
       "      <th>region_southeast</th>\n",
       "      <th>region_southwest</th>\n",
       "    </tr>\n",
       "  </thead>\n",
       "  <tbody>\n",
       "    <tr>\n",
       "      <th>0</th>\n",
       "      <td>19</td>\n",
       "      <td>27.900</td>\n",
       "      <td>0</td>\n",
       "      <td>16884.92400</td>\n",
       "      <td>1</td>\n",
       "      <td>0</td>\n",
       "      <td>0</td>\n",
       "      <td>1</td>\n",
       "      <td>0</td>\n",
       "      <td>0</td>\n",
       "      <td>0</td>\n",
       "      <td>1</td>\n",
       "    </tr>\n",
       "    <tr>\n",
       "      <th>1</th>\n",
       "      <td>18</td>\n",
       "      <td>33.770</td>\n",
       "      <td>1</td>\n",
       "      <td>1725.55230</td>\n",
       "      <td>0</td>\n",
       "      <td>1</td>\n",
       "      <td>1</td>\n",
       "      <td>0</td>\n",
       "      <td>0</td>\n",
       "      <td>0</td>\n",
       "      <td>1</td>\n",
       "      <td>0</td>\n",
       "    </tr>\n",
       "    <tr>\n",
       "      <th>2</th>\n",
       "      <td>28</td>\n",
       "      <td>33.000</td>\n",
       "      <td>3</td>\n",
       "      <td>4449.46200</td>\n",
       "      <td>0</td>\n",
       "      <td>1</td>\n",
       "      <td>1</td>\n",
       "      <td>0</td>\n",
       "      <td>0</td>\n",
       "      <td>0</td>\n",
       "      <td>1</td>\n",
       "      <td>0</td>\n",
       "    </tr>\n",
       "    <tr>\n",
       "      <th>3</th>\n",
       "      <td>33</td>\n",
       "      <td>22.705</td>\n",
       "      <td>0</td>\n",
       "      <td>21984.47061</td>\n",
       "      <td>0</td>\n",
       "      <td>1</td>\n",
       "      <td>1</td>\n",
       "      <td>0</td>\n",
       "      <td>0</td>\n",
       "      <td>1</td>\n",
       "      <td>0</td>\n",
       "      <td>0</td>\n",
       "    </tr>\n",
       "    <tr>\n",
       "      <th>4</th>\n",
       "      <td>32</td>\n",
       "      <td>28.880</td>\n",
       "      <td>0</td>\n",
       "      <td>3866.85520</td>\n",
       "      <td>0</td>\n",
       "      <td>1</td>\n",
       "      <td>1</td>\n",
       "      <td>0</td>\n",
       "      <td>0</td>\n",
       "      <td>1</td>\n",
       "      <td>0</td>\n",
       "      <td>0</td>\n",
       "    </tr>\n",
       "  </tbody>\n",
       "</table>\n",
       "</div>"
      ],
      "text/plain": [
       "   age     bmi  children      charges  sex_female  sex_male  smoker_no  \\\n",
       "0   19  27.900         0  16884.92400           1         0          0   \n",
       "1   18  33.770         1   1725.55230           0         1          1   \n",
       "2   28  33.000         3   4449.46200           0         1          1   \n",
       "3   33  22.705         0  21984.47061           0         1          1   \n",
       "4   32  28.880         0   3866.85520           0         1          1   \n",
       "\n",
       "   smoker_yes  region_northeast  region_northwest  region_southeast  \\\n",
       "0           1                 0                 0                 0   \n",
       "1           0                 0                 0                 1   \n",
       "2           0                 0                 0                 1   \n",
       "3           0                 0                 1                 0   \n",
       "4           0                 0                 1                 0   \n",
       "\n",
       "   region_southwest  \n",
       "0                 1  \n",
       "1                 0  \n",
       "2                 0  \n",
       "3                 0  \n",
       "4                 0  "
      ]
     },
     "execution_count": 3,
     "metadata": {},
     "output_type": "execute_result"
    }
   ],
   "source": [
    "#convert categorical variables into dummy/indicator variables.\n",
    "insurance_one_hot = pd.get_dummies(insurance)\n",
    "insurance_one_hot.head()"
   ]
  },
  {
   "cell_type": "code",
   "execution_count": 4,
   "id": "ab412c24",
   "metadata": {},
   "outputs": [],
   "source": [
    "# Create X features and y labels\n",
    "X = insurance_one_hot.drop(\"charges\", axis=1)\n",
    "y = insurance[\"charges\"]"
   ]
  },
  {
   "cell_type": "code",
   "execution_count": 5,
   "id": "248c4c0a",
   "metadata": {},
   "outputs": [
    {
     "data": {
      "text/html": [
       "<div>\n",
       "<style scoped>\n",
       "    .dataframe tbody tr th:only-of-type {\n",
       "        vertical-align: middle;\n",
       "    }\n",
       "\n",
       "    .dataframe tbody tr th {\n",
       "        vertical-align: top;\n",
       "    }\n",
       "\n",
       "    .dataframe thead th {\n",
       "        text-align: right;\n",
       "    }\n",
       "</style>\n",
       "<table border=\"1\" class=\"dataframe\">\n",
       "  <thead>\n",
       "    <tr style=\"text-align: right;\">\n",
       "      <th></th>\n",
       "      <th>age</th>\n",
       "      <th>bmi</th>\n",
       "      <th>children</th>\n",
       "      <th>sex_female</th>\n",
       "      <th>sex_male</th>\n",
       "      <th>smoker_no</th>\n",
       "      <th>smoker_yes</th>\n",
       "      <th>region_northeast</th>\n",
       "      <th>region_northwest</th>\n",
       "      <th>region_southeast</th>\n",
       "      <th>region_southwest</th>\n",
       "    </tr>\n",
       "  </thead>\n",
       "  <tbody>\n",
       "    <tr>\n",
       "      <th>0</th>\n",
       "      <td>19</td>\n",
       "      <td>27.900</td>\n",
       "      <td>0</td>\n",
       "      <td>1</td>\n",
       "      <td>0</td>\n",
       "      <td>0</td>\n",
       "      <td>1</td>\n",
       "      <td>0</td>\n",
       "      <td>0</td>\n",
       "      <td>0</td>\n",
       "      <td>1</td>\n",
       "    </tr>\n",
       "    <tr>\n",
       "      <th>1</th>\n",
       "      <td>18</td>\n",
       "      <td>33.770</td>\n",
       "      <td>1</td>\n",
       "      <td>0</td>\n",
       "      <td>1</td>\n",
       "      <td>1</td>\n",
       "      <td>0</td>\n",
       "      <td>0</td>\n",
       "      <td>0</td>\n",
       "      <td>1</td>\n",
       "      <td>0</td>\n",
       "    </tr>\n",
       "    <tr>\n",
       "      <th>2</th>\n",
       "      <td>28</td>\n",
       "      <td>33.000</td>\n",
       "      <td>3</td>\n",
       "      <td>0</td>\n",
       "      <td>1</td>\n",
       "      <td>1</td>\n",
       "      <td>0</td>\n",
       "      <td>0</td>\n",
       "      <td>0</td>\n",
       "      <td>1</td>\n",
       "      <td>0</td>\n",
       "    </tr>\n",
       "    <tr>\n",
       "      <th>3</th>\n",
       "      <td>33</td>\n",
       "      <td>22.705</td>\n",
       "      <td>0</td>\n",
       "      <td>0</td>\n",
       "      <td>1</td>\n",
       "      <td>1</td>\n",
       "      <td>0</td>\n",
       "      <td>0</td>\n",
       "      <td>1</td>\n",
       "      <td>0</td>\n",
       "      <td>0</td>\n",
       "    </tr>\n",
       "    <tr>\n",
       "      <th>4</th>\n",
       "      <td>32</td>\n",
       "      <td>28.880</td>\n",
       "      <td>0</td>\n",
       "      <td>0</td>\n",
       "      <td>1</td>\n",
       "      <td>1</td>\n",
       "      <td>0</td>\n",
       "      <td>0</td>\n",
       "      <td>1</td>\n",
       "      <td>0</td>\n",
       "      <td>0</td>\n",
       "    </tr>\n",
       "  </tbody>\n",
       "</table>\n",
       "</div>"
      ],
      "text/plain": [
       "   age     bmi  children  sex_female  sex_male  smoker_no  smoker_yes  \\\n",
       "0   19  27.900         0           1         0          0           1   \n",
       "1   18  33.770         1           0         1          1           0   \n",
       "2   28  33.000         3           0         1          1           0   \n",
       "3   33  22.705         0           0         1          1           0   \n",
       "4   32  28.880         0           0         1          1           0   \n",
       "\n",
       "   region_northeast  region_northwest  region_southeast  region_southwest  \n",
       "0                 0                 0                 0                 1  \n",
       "1                 0                 0                 1                 0  \n",
       "2                 0                 0                 1                 0  \n",
       "3                 0                 1                 0                 0  \n",
       "4                 0                 1                 0                 0  "
      ]
     },
     "execution_count": 5,
     "metadata": {},
     "output_type": "execute_result"
    }
   ],
   "source": [
    "#View X\n",
    "X.head()"
   ]
  },
  {
   "cell_type": "code",
   "execution_count": 6,
   "id": "3d832ccc",
   "metadata": {},
   "outputs": [
    {
     "data": {
      "text/plain": [
       "0    16884.92400\n",
       "1     1725.55230\n",
       "2     4449.46200\n",
       "3    21984.47061\n",
       "4     3866.85520\n",
       "Name: charges, dtype: float64"
      ]
     },
     "execution_count": 6,
     "metadata": {},
     "output_type": "execute_result"
    }
   ],
   "source": [
    "#View y\n",
    "y.head()"
   ]
  },
  {
   "cell_type": "code",
   "execution_count": 7,
   "id": "77f11356",
   "metadata": {},
   "outputs": [
    {
     "data": {
      "text/plain": [
       "(1338, 1070, 268)"
      ]
     },
     "execution_count": 7,
     "metadata": {},
     "output_type": "execute_result"
    }
   ],
   "source": [
    "# Create training and test sets using sckit-learn\n",
    "from sklearn.model_selection import train_test_split\n",
    "X_train, X_test, y_train, y_test = train_test_split(X, y, test_size = 0.2, random_state=42)\n",
    "len(X), len(X_train), len(X_test)"
   ]
  },
  {
   "cell_type": "code",
   "execution_count": 8,
   "id": "1ddaaa6c",
   "metadata": {},
   "outputs": [
    {
     "name": "stdout",
     "output_type": "stream",
     "text": [
      "Epoch 1/100\n",
      "WARNING:tensorflow:Layer dense is casting an input tensor from dtype float64 to the layer's dtype of float32, which is new behavior in TensorFlow 2.  The layer has dtype float32 because its dtype defaults to floatx.\n",
      "\n",
      "If you intended to run this layer in float32, you can safely ignore this warning. If in doubt, this warning is likely only an issue if you are porting a TensorFlow 1.X model to TensorFlow 2.\n",
      "\n",
      "To change all layers to have dtype float64 by default, call `tf.keras.backend.set_floatx('float64')`. To change just this layer, pass dtype='float64' to the layer constructor. If you are the author of this layer, you can disable autocasting by passing autocast=False to the base Layer constructor.\n",
      "\n",
      "34/34 [==============================] - 0s 1ms/step - loss: 11434.4707 - mae: 11434.4707\n",
      "Epoch 2/100\n",
      "34/34 [==============================] - 0s 912us/step - loss: 7504.8159 - mae: 7504.8159\n",
      "Epoch 3/100\n",
      "34/34 [==============================] - 0s 788us/step - loss: 7289.5010 - mae: 7289.5010\n",
      "Epoch 4/100\n",
      "34/34 [==============================] - 0s 930us/step - loss: 7064.4624 - mae: 7064.4624\n",
      "Epoch 5/100\n",
      "34/34 [==============================] - 0s 824us/step - loss: 6825.5918 - mae: 6825.5918\n",
      "Epoch 6/100\n",
      "34/34 [==============================] - 0s 922us/step - loss: 6569.6001 - mae: 6569.6001\n",
      "Epoch 7/100\n",
      "34/34 [==============================] - 0s 933us/step - loss: 6442.8633 - mae: 6442.8633\n",
      "Epoch 8/100\n",
      "34/34 [==============================] - 0s 789us/step - loss: 6254.7837 - mae: 6254.7837\n",
      "Epoch 9/100\n",
      "34/34 [==============================] - 0s 958us/step - loss: 6121.5996 - mae: 6121.5996\n",
      "Epoch 10/100\n",
      "34/34 [==============================] - 0s 865us/step - loss: 5940.2451 - mae: 5940.2451\n",
      "Epoch 11/100\n",
      "34/34 [==============================] - 0s 878us/step - loss: 5689.8647 - mae: 5689.8647\n",
      "Epoch 12/100\n",
      "34/34 [==============================] - 0s 985us/step - loss: 5351.7480 - mae: 5351.7480\n",
      "Epoch 13/100\n",
      "34/34 [==============================] - 0s 900us/step - loss: 4868.8076 - mae: 4868.8076\n",
      "Epoch 14/100\n",
      "34/34 [==============================] - 0s 939us/step - loss: 4225.0649 - mae: 4225.0649\n",
      "Epoch 15/100\n",
      "34/34 [==============================] - 0s 1ms/step - loss: 4050.5950 - mae: 4050.5950\n",
      "Epoch 16/100\n",
      "34/34 [==============================] - 0s 894us/step - loss: 3840.3181 - mae: 3840.3181\n",
      "Epoch 17/100\n",
      "34/34 [==============================] - 0s 835us/step - loss: 3802.4246 - mae: 3802.4246\n",
      "Epoch 18/100\n",
      "34/34 [==============================] - 0s 814us/step - loss: 3795.2795 - mae: 3795.2795\n",
      "Epoch 19/100\n",
      "34/34 [==============================] - 0s 865us/step - loss: 3756.2019 - mae: 3756.2019\n",
      "Epoch 20/100\n",
      "34/34 [==============================] - 0s 820us/step - loss: 3792.3674 - mae: 3792.3674\n",
      "Epoch 21/100\n",
      "34/34 [==============================] - 0s 1ms/step - loss: 3797.9548 - mae: 3797.9548\n",
      "Epoch 22/100\n",
      "34/34 [==============================] - 0s 940us/step - loss: 3806.4890 - mae: 3806.4890\n",
      "Epoch 23/100\n",
      "34/34 [==============================] - 0s 857us/step - loss: 3742.5574 - mae: 3742.5574\n",
      "Epoch 24/100\n",
      "34/34 [==============================] - 0s 811us/step - loss: 3708.5198 - mae: 3708.5198\n",
      "Epoch 25/100\n",
      "34/34 [==============================] - 0s 833us/step - loss: 3728.8149 - mae: 3728.8149\n",
      "Epoch 26/100\n",
      "34/34 [==============================] - 0s 838us/step - loss: 3698.3137 - mae: 3698.3137\n",
      "Epoch 27/100\n",
      "34/34 [==============================] - 0s 881us/step - loss: 3707.6013 - mae: 3707.6013\n",
      "Epoch 28/100\n",
      "34/34 [==============================] - 0s 961us/step - loss: 3692.9583 - mae: 3692.9583\n",
      "Epoch 29/100\n",
      "34/34 [==============================] - 0s 949us/step - loss: 3694.4253 - mae: 3694.4253\n",
      "Epoch 30/100\n",
      "34/34 [==============================] - 0s 844us/step - loss: 3675.4290 - mae: 3675.4290\n",
      "Epoch 31/100\n",
      "34/34 [==============================] - 0s 838us/step - loss: 3696.4055 - mae: 3696.4055\n",
      "Epoch 32/100\n",
      "34/34 [==============================] - 0s 860us/step - loss: 3623.0684 - mae: 3623.0686\n",
      "Epoch 33/100\n",
      "34/34 [==============================] - 0s 805us/step - loss: 3637.3291 - mae: 3637.3291\n",
      "Epoch 34/100\n",
      "34/34 [==============================] - 0s 901us/step - loss: 3681.0015 - mae: 3681.0015\n",
      "Epoch 35/100\n",
      "34/34 [==============================] - 0s 1ms/step - loss: 3591.9487 - mae: 3591.9487\n",
      "Epoch 36/100\n",
      "34/34 [==============================] - 0s 960us/step - loss: 3601.7756 - mae: 3601.7756\n",
      "Epoch 37/100\n",
      "34/34 [==============================] - 0s 848us/step - loss: 3580.9307 - mae: 3580.9307\n",
      "Epoch 38/100\n",
      "34/34 [==============================] - 0s 869us/step - loss: 3558.8560 - mae: 3558.8560\n",
      "Epoch 39/100\n",
      "34/34 [==============================] - 0s 835us/step - loss: 3604.4270 - mae: 3604.4270\n",
      "Epoch 40/100\n",
      "34/34 [==============================] - 0s 848us/step - loss: 3573.4529 - mae: 3573.4529\n",
      "Epoch 41/100\n",
      "34/34 [==============================] - 0s 825us/step - loss: 3558.3745 - mae: 3558.3745\n",
      "Epoch 42/100\n",
      "34/34 [==============================] - 0s 831us/step - loss: 3550.3486 - mae: 3550.3486\n",
      "Epoch 43/100\n",
      "34/34 [==============================] - 0s 984us/step - loss: 3571.1653 - mae: 3571.1653\n",
      "Epoch 44/100\n",
      "34/34 [==============================] - 0s 822us/step - loss: 3558.7815 - mae: 3558.7815\n",
      "Epoch 45/100\n",
      "34/34 [==============================] - 0s 882us/step - loss: 3533.3621 - mae: 3533.3621\n",
      "Epoch 46/100\n",
      "34/34 [==============================] - 0s 991us/step - loss: 3520.8994 - mae: 3520.8994\n",
      "Epoch 47/100\n",
      "34/34 [==============================] - 0s 829us/step - loss: 3565.4756 - mae: 3565.4756\n",
      "Epoch 48/100\n",
      "34/34 [==============================] - 0s 822us/step - loss: 3527.2285 - mae: 3527.2285\n",
      "Epoch 49/100\n",
      "34/34 [==============================] - 0s 925us/step - loss: 3591.1526 - mae: 3591.1526\n",
      "Epoch 50/100\n",
      "34/34 [==============================] - 0s 821us/step - loss: 3596.1494 - mae: 3596.1494\n",
      "Epoch 51/100\n",
      "34/34 [==============================] - ETA: 0s - loss: 3652.1108 - mae: 3652.110 - 0s 745us/step - loss: 3506.1562 - mae: 3506.1562\n",
      "Epoch 52/100\n",
      "34/34 [==============================] - 0s 779us/step - loss: 3503.9602 - mae: 3503.9602\n",
      "Epoch 53/100\n",
      "34/34 [==============================] - 0s 913us/step - loss: 3497.7795 - mae: 3497.7795\n",
      "Epoch 54/100\n",
      "34/34 [==============================] - 0s 818us/step - loss: 3541.8821 - mae: 3541.8821\n",
      "Epoch 55/100\n",
      "34/34 [==============================] - 0s 809us/step - loss: 3533.5679 - mae: 3533.5679\n",
      "Epoch 56/100\n",
      "34/34 [==============================] - 0s 813us/step - loss: 3538.5320 - mae: 3538.5320\n",
      "Epoch 57/100\n",
      "34/34 [==============================] - 0s 760us/step - loss: 3501.6960 - mae: 3501.6960\n",
      "Epoch 58/100\n",
      "34/34 [==============================] - 0s 783us/step - loss: 3660.3994 - mae: 3660.3994\n",
      "Epoch 59/100\n",
      "34/34 [==============================] - 0s 796us/step - loss: 3524.0496 - mae: 3524.0496\n",
      "Epoch 60/100\n",
      "34/34 [==============================] - 0s 799us/step - loss: 3534.5557 - mae: 3534.5557\n",
      "Epoch 61/100\n",
      "34/34 [==============================] - 0s 770us/step - loss: 3543.9216 - mae: 3543.9216\n",
      "Epoch 62/100\n",
      "34/34 [==============================] - 0s 791us/step - loss: 3575.7263 - mae: 3575.7263\n",
      "Epoch 63/100\n",
      "34/34 [==============================] - 0s 784us/step - loss: 3515.1016 - mae: 3515.1016\n",
      "Epoch 64/100\n",
      "34/34 [==============================] - 0s 809us/step - loss: 3508.0154 - mae: 3508.0154\n",
      "Epoch 65/100\n",
      "34/34 [==============================] - 0s 779us/step - loss: 3513.5464 - mae: 3513.5464\n",
      "Epoch 66/100\n",
      "34/34 [==============================] - 0s 799us/step - loss: 3638.5476 - mae: 3638.5476\n",
      "Epoch 67/100\n",
      "34/34 [==============================] - 0s 817us/step - loss: 3548.7739 - mae: 3548.7739\n",
      "Epoch 68/100\n",
      "34/34 [==============================] - 0s 830us/step - loss: 3527.3784 - mae: 3527.3784\n",
      "Epoch 69/100\n",
      "34/34 [==============================] - 0s 771us/step - loss: 3500.2761 - mae: 3500.2761\n",
      "Epoch 70/100\n",
      "34/34 [==============================] - 0s 802us/step - loss: 3500.8101 - mae: 3500.8101\n",
      "Epoch 71/100\n",
      "34/34 [==============================] - 0s 785us/step - loss: 3517.2710 - mae: 3517.2710\n",
      "Epoch 72/100\n",
      "34/34 [==============================] - 0s 778us/step - loss: 3550.8831 - mae: 3550.8831\n",
      "Epoch 73/100\n"
     ]
    },
    {
     "name": "stdout",
     "output_type": "stream",
     "text": [
      "34/34 [==============================] - 0s 781us/step - loss: 3516.9299 - mae: 3516.9299\n",
      "Epoch 74/100\n",
      "34/34 [==============================] - 0s 811us/step - loss: 3534.0625 - mae: 3534.0625\n",
      "Epoch 75/100\n",
      "34/34 [==============================] - 0s 781us/step - loss: 3531.4092 - mae: 3531.4092\n",
      "Epoch 76/100\n",
      "34/34 [==============================] - 0s 781us/step - loss: 3529.5178 - mae: 3529.5178\n",
      "Epoch 77/100\n",
      "34/34 [==============================] - 0s 779us/step - loss: 3581.6047 - mae: 3581.6047\n",
      "Epoch 78/100\n",
      "34/34 [==============================] - ETA: 0s - loss: 3192.7329 - mae: 3192.732 - 0s 810us/step - loss: 3626.9426 - mae: 3626.9426\n",
      "Epoch 79/100\n",
      "34/34 [==============================] - 0s 785us/step - loss: 3536.0525 - mae: 3536.0525\n",
      "Epoch 80/100\n",
      "34/34 [==============================] - 0s 747us/step - loss: 3501.3208 - mae: 3501.3208\n",
      "Epoch 81/100\n",
      "34/34 [==============================] - 0s 805us/step - loss: 3546.2805 - mae: 3546.2805\n",
      "Epoch 82/100\n",
      "34/34 [==============================] - 0s 755us/step - loss: 3605.1340 - mae: 3605.1340\n",
      "Epoch 83/100\n",
      "34/34 [==============================] - 0s 760us/step - loss: 3528.7468 - mae: 3528.7468\n",
      "Epoch 84/100\n",
      "34/34 [==============================] - 0s 794us/step - loss: 3511.8569 - mae: 3511.8569\n",
      "Epoch 85/100\n",
      "34/34 [==============================] - 0s 816us/step - loss: 3511.5808 - mae: 3511.5808\n",
      "Epoch 86/100\n",
      "34/34 [==============================] - 0s 778us/step - loss: 3511.0950 - mae: 3511.0950\n",
      "Epoch 87/100\n",
      "34/34 [==============================] - 0s 805us/step - loss: 3542.2146 - mae: 3542.2146\n",
      "Epoch 88/100\n",
      "34/34 [==============================] - 0s 789us/step - loss: 3600.3105 - mae: 3600.3105\n",
      "Epoch 89/100\n",
      "34/34 [==============================] - 0s 822us/step - loss: 3550.5195 - mae: 3550.5195\n",
      "Epoch 90/100\n",
      "34/34 [==============================] - 0s 770us/step - loss: 3520.4004 - mae: 3520.4004\n",
      "Epoch 91/100\n",
      "34/34 [==============================] - 0s 768us/step - loss: 3511.6479 - mae: 3511.6479\n",
      "Epoch 92/100\n",
      "34/34 [==============================] - 0s 834us/step - loss: 3550.6267 - mae: 3550.6267\n",
      "Epoch 93/100\n",
      "34/34 [==============================] - 0s 818us/step - loss: 3579.8027 - mae: 3579.8027\n",
      "Epoch 94/100\n",
      "34/34 [==============================] - 0s 805us/step - loss: 3604.3979 - mae: 3604.3979\n",
      "Epoch 95/100\n",
      "34/34 [==============================] - 0s 799us/step - loss: 3517.5330 - mae: 3517.5330\n",
      "Epoch 96/100\n",
      "34/34 [==============================] - 0s 814us/step - loss: 3526.8093 - mae: 3526.8093\n",
      "Epoch 97/100\n",
      "34/34 [==============================] - 0s 793us/step - loss: 3596.7493 - mae: 3596.7493\n",
      "Epoch 98/100\n",
      "34/34 [==============================] - 0s 787us/step - loss: 3528.6768 - mae: 3528.6768\n",
      "Epoch 99/100\n",
      "34/34 [==============================] - 0s 790us/step - loss: 3513.6899 - mae: 3513.6899\n",
      "Epoch 100/100\n",
      "34/34 [==============================] - 0s 793us/step - loss: 3505.9753 - mae: 3505.9753\n"
     ]
    },
    {
     "data": {
      "text/plain": [
       "<tensorflow.python.keras.callbacks.History at 0x2767b3501c0>"
      ]
     },
     "execution_count": 8,
     "metadata": {},
     "output_type": "execute_result"
    }
   ],
   "source": [
    "# Build a neural netwrok\n",
    "tf.random.set_seed(42)\n",
    "\n",
    "#1. Build the model\n",
    "model = tf.keras.Sequential([\n",
    "    tf.keras.layers.Dense(100),\n",
    "    tf.keras.layers.Dense(10),\n",
    "    tf.keras.layers.Dense(1)\n",
    "])\n",
    "\n",
    "#2. Compile the model\n",
    "model.compile(loss= tf.keras.losses.mae,\n",
    "             optimizer= tf.keras.optimizers.Adam(lr=0.01),\n",
    "             metrics= ([\"mae\"]))\n",
    "#3. Fit the model\n",
    "model.fit(X_train, y_train, epochs=100)"
   ]
  },
  {
   "cell_type": "code",
   "execution_count": 9,
   "id": "628922e1",
   "metadata": {},
   "outputs": [
    {
     "name": "stdout",
     "output_type": "stream",
     "text": [
      "9/9 [==============================] - 0s 2ms/step - loss: 3167.3213 - mae: 3167.3213\n"
     ]
    },
    {
     "data": {
      "text/plain": [
       "[3167.3212890625, 3167.3212890625]"
      ]
     },
     "execution_count": 9,
     "metadata": {},
     "output_type": "execute_result"
    }
   ],
   "source": [
    "#check the results of the insurance model on the test data\n",
    "model.evaluate(X_test, y_test)"
   ]
  },
  {
   "cell_type": "code",
   "execution_count": 10,
   "id": "a742b232",
   "metadata": {},
   "outputs": [],
   "source": [
    "# Let's normalize data using scikit-learn and run it through neuro network and see if the model performs better.\n",
    "from sklearn.compose import make_column_transformer\n",
    "from sklearn.preprocessing import OneHotEncoder, MinMaxScaler\n",
    "from sklearn.model_selection import train_test_split\n",
    "\n",
    "#create a column transformer\n",
    "ct = make_column_transformer(\n",
    "        (MinMaxScaler(),[\"age\", \"bmi\", \"children\"]),\n",
    "        (OneHotEncoder(handle_unknown= \"ignore\"),[\"sex\",\"smoker\",\"region\"])\n",
    ")\n",
    "\n",
    "# Create X & y\n",
    "X = insurance.drop(\"charges\", axis=1)\n",
    "y = insurance[\"charges\"]\n",
    "\n",
    "# Build training and test sets\n",
    "X_train, X_test, y_train, y_test = train_test_split(X, y, test_size = 0.2, random_state = 42)\n",
    "\n",
    "# Fit the column transformer to our training data\n",
    "ct.fit(X_train)\n",
    "\n",
    "#Transform training and test data with normalization(MinMaxScalar and OneHotEncoder)\n",
    "X_train_normal = ct.transform(X_train)\n",
    "X_test_normal = ct.transform(X_test)"
   ]
  },
  {
   "cell_type": "code",
   "execution_count": 11,
   "id": "d81ee188",
   "metadata": {},
   "outputs": [
    {
     "data": {
      "text/plain": [
       "array([0.60869565, 0.10734463, 0.4       , 1.        , 0.        ,\n",
       "       1.        , 0.        , 0.        , 1.        , 0.        ,\n",
       "       0.        ])"
      ]
     },
     "execution_count": 11,
     "metadata": {},
     "output_type": "execute_result"
    }
   ],
   "source": [
    "X_train_normal[0]"
   ]
  },
  {
   "cell_type": "code",
   "execution_count": 12,
   "id": "510fb497",
   "metadata": {},
   "outputs": [
    {
     "data": {
      "text/plain": [
       "array([0.58695652, 0.24791499, 0.4       , 1.        , 0.        ,\n",
       "       1.        , 0.        , 1.        , 0.        , 0.        ,\n",
       "       0.        ])"
      ]
     },
     "execution_count": 12,
     "metadata": {},
     "output_type": "execute_result"
    }
   ],
   "source": [
    "X_test_normal[0]"
   ]
  },
  {
   "cell_type": "code",
   "execution_count": 13,
   "id": "a4ccf3c1",
   "metadata": {},
   "outputs": [],
   "source": [
    "# Let's now recreate the neural network\n",
    "\n",
    "# set random seed.\n",
    "tf.random.set_seed(42)\n",
    "\n",
    "#1. Build the model.\n",
    "model_n = tf.keras.Sequential([\n",
    "    tf.keras.layers.Dense(100),\n",
    "    tf.keras.layers.Dense(10),\n",
    "    tf.keras.layers.Dense(1)\n",
    "])\n",
    "\n",
    "#2. Compile the model\n",
    "model_n.compile(loss = tf.keras.losses.mae,\n",
    "               optimizer = tf.keras.optimizers.Adam(lr=0.01),\n",
    "               metrics = ([\"mae\"]))\n",
    "\n",
    "#3. Fit the model\n",
    "history = model_n.fit(X_train_normal, y_train, epochs = 100, verbose=0)"
   ]
  },
  {
   "cell_type": "code",
   "execution_count": 14,
   "id": "05ca1444",
   "metadata": {},
   "outputs": [
    {
     "data": {
      "text/plain": [
       "Text(0.5, 0, 'iterations')"
      ]
     },
     "execution_count": 14,
     "metadata": {},
     "output_type": "execute_result"
    },
    {
     "data": {
      "image/png": "[encoded data removed]",
      "text/plain": [
       "<Figure size 432x288 with 1 Axes>"
      ]
     },
     "metadata": {
      "needs_background": "light"
     },
     "output_type": "display_data"
    }
   ],
   "source": [
    "# plot iterations vs loss\n",
    "pd.DataFrame(history.history).plot()\n",
    "plt.ylabel(\"loss\")\n",
    "plt.xlabel(\"iterations\")"
   ]
  },
  {
   "cell_type": "code",
   "execution_count": 15,
   "id": "f350b43b",
   "metadata": {},
   "outputs": [
    {
     "name": "stdout",
     "output_type": "stream",
     "text": [
      "9/9 [==============================] - 0s 776us/step - loss: 3176.3691 - mae: 3176.3691\n"
     ]
    },
    {
     "data": {
      "text/plain": [
       "[3176.369140625, 3176.369140625]"
      ]
     },
     "execution_count": 15,
     "metadata": {},
     "output_type": "execute_result"
    }
   ],
   "source": [
    "# Evaluate the model with testing data\n",
    "model_n.evaluate(X_test_normal, y_test)"
   ]
  },
  {
   "cell_type": "markdown",
   "id": "af2292ca",
   "metadata": {},
   "source": [
    "Normalization did not actually improve for the same conditions. Normalization or without normalization model would give similar predictions in this case!"
   ]
  }
 ],
 "metadata": {
  "kernelspec": {
   "display_name": "Python 3",
   "language": "python",
   "name": "python3"
  },
  "language_info": {
   "codemirror_mode": {
    "name": "ipython",
    "version": 3
   },
   "file_extension": ".py",
   "mimetype": "text/x-python",
   "name": "python",
   "nbconvert_exporter": "python",
   "pygments_lexer": "ipython3",
   "version": "3.8.8"
  }
 },
 "nbformat": 4,
 "nbformat_minor": 5
}
